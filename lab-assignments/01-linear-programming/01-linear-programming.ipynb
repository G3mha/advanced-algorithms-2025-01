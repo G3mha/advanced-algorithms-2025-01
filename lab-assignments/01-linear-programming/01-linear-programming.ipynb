{
 "cells": [
  {
   "cell_type": "markdown",
   "id": "20f94e96",
   "metadata": {},
   "source": [
    "\n",
    "# Linear Programming Lab\n",
    "\n",
    "## Total: 40 points\n",
    "\n",
    "In this lab, you will explore a useful extension of linear programming duality (covered in class\n",
    "LP Day 1) called linear programming sensitivity analysis. Here, we aim to find:\n",
    "\n",
    "- How does the solution change when the objective function changes?\n",
    "- How does the solution change when the resource limits change?\n",
    "- How does the solution change when a constraint is added to the problem?\n",
    "\n",
    "One approach to these types of questions is solving lots of slightly different linear programming problems. This method would work, but it is inelegant and (for large problems) computationally expensive (but in most cases today, computation is cheap and computing solutions to many problems is a standard technique to study sensitivity in practice). However, there is a more elegant solution\n",
    "that gives these answers just by examining the dual information provided by the Simplex Algorithm.\n",
    "\n",
    "**Consider the following scenario:** An instrument company makes trombones and trumpets. A trombone requires 40 square inches of metal sheet and a trumpet requires 30 square inches of metal. Metal costs $1 per square inch and 40,000 square inches are available. It takes two hours of skilled labor to make a novice quality trombone or a novice quality trumpet. Three more hours of skilled labor will turn a novice quality trombone into a professional trombone. Two more hours of skilled labor will turn a novice quality trumpet into a professional trumpet. There are 6000 hours of skilled labor available. Assume that you do not need to pay for labor. Assume that you can sell fractional trombones and trumpets. The market selling prices and production costs are given in the following table:\n",
    "\n",
    "| Product    | Market Price | Cost (metal $1/sq.in.) |\n",
    "| -------- | ------- | ------- |\n",
    "| Novice Trombone | $70 | $40 |\n",
    "| Professional Trombone | $140 | $40 |\n",
    "| Novice Trumpet | $60 | $30 |\n",
    "| Professional Trumpet | $110 | $30 |\n",
    "\n",
    "---\n"
   ]
  },
  {
   "cell_type": "markdown",
   "id": "8c34dead",
   "metadata": {},
   "source": [
    "# Problem 1: Formulate the LP (5 points)\n",
    "## 1a: Set up the LP (3 points)\n",
    "\n",
    "Write an objective function that maximizes profits (market price - production\n",
    "costs) and all constraints.\n",
    "\n",
    "### Instructions\n",
    "- Write the equations, using LaTeX, between the $$ tags. Then convert the LP problem into code by referring to this documentation: [PuLP Guide](https://realpython.com/linear-programming-python/#using-pulp)"
   ]
  },
  {
   "cell_type": "markdown",
   "id": "c30746dd",
   "metadata": {},
   "source": [
    "### Solution:\n",
    "Variables:\n",
    "$$x_1 = \\text{Novice Trombone}$$\n",
    "$$x_2 = \\text{Professional Trombone}$$\n",
    "$$x_3 = \\text{Novice Trumpet}$$\n",
    "$$x_4 = \\text{Professional Trumpet}$$\n",
    "\n",
    "Objective Function: $$ Z = 30x_1 + 100x_2 + 30x_3 + 80x_4 $$\n",
    "\n",
    "Constraints:\n",
    "- Metal usage constraint: $$ 40x_1 + 40x_2 + 30x_3 + 30x_4 \\leq 40,000 $$\n",
    "- Labor usage constraint: $$ 2x_1 + 5x_2 + 2x_3 + 4x_4 \\leq 6,000 $$\n",
    "- Non-negativity constraint: $$ x_1, x_2, x_3, x_4 \\geq 0 $$"
   ]
  },
  {
   "cell_type": "code",
   "execution_count": 1,
   "id": "592d8519",
   "metadata": {},
   "outputs": [],
   "source": [
    "from pulp import LpMaximize, LpProblem, LpVariable, LpStatus, PULP_CBC_CMD\n",
    "import copy\n",
    "\n",
    "# Define the problem\n",
    "main_model = LpProblem(name=\"instrument-production\", sense=LpMaximize) # (please do not rename this variable as it's used later in the notebook)\n",
    "\n",
    "# Define variables\n",
    "x1 = LpVariable(name=\"x1\", lowBound=0)  # Novice Trombone\n",
    "x2 = LpVariable(name=\"x2\", lowBound=0)  # Professional Trombone\n",
    "x3 = LpVariable(name=\"x3\", lowBound=0)  # Novice Trumpet\n",
    "x4 = LpVariable(name=\"x4\", lowBound=0)  # Professional Trumpet\n",
    "\n",
    "# Objective function\n",
    "main_model += 30*x1 + 100*x2 + 30*x3 + 80*x4\n",
    "\n",
    "# Constraints\n",
    "# 1. Total metal sheet used\n",
    "main_model += 40*x1 + 40*x2 + 30*x3 + 30*x4 <= 40000, \"metal_usage_constraint\"\n",
    "\n",
    "# 2. Total skilled labor hours used\n",
    "main_model += 2*x1 + 5*x2 + 2*x3 + 4*x4 <= 6000, \"labor_usage_constraint\"\n",
    "\n",
    "# 3. Non-negativity constraints (already enforced by lowBound=0 in variable definition)"
   ]
  },
  {
   "cell_type": "markdown",
   "id": "e1fa5efc",
   "metadata": {},
   "source": [
    "## 1b) Solve the LP Computationally (1 point)\n",
    "Use the model we created above to find the optimal profit. Run the code block below to solve the problem."
   ]
  },
  {
   "cell_type": "markdown",
   "id": "b8ee79ad",
   "metadata": {},
   "source": [
    "### Solution:\n",
    "\n",
    "Optimal Profit: $106,666.67"
   ]
  },
  {
   "cell_type": "code",
   "execution_count": 2,
   "id": "a1e36d90",
   "metadata": {},
   "outputs": [
    {
     "name": "stdout",
     "output_type": "stream",
     "text": [
      "Welcome to the CBC MILP Solver \n",
      "Version: 2.10.3 \n",
      "Build Date: Dec 15 2019 \n",
      "\n",
      "command line - /Users/enriccogemha/.pyenv/versions/3.9.21/lib/python3.9/site-packages/pulp/solverdir/cbc/osx/64/cbc /var/folders/3_/5dvts2vs4s1bdt0tz8nb_y900000gn/T/e6cffc93b3fd43f9b57aac155a37d409-pulp.mps -max -timeMode elapsed -branch -printingOptions all -solution /var/folders/3_/5dvts2vs4s1bdt0tz8nb_y900000gn/T/e6cffc93b3fd43f9b57aac155a37d409-pulp.sol (default strategy 1)\n",
      "At line 2 NAME          MODEL\n",
      "At line 3 ROWS\n",
      "At line 7 COLUMNS\n",
      "At line 20 RHS\n",
      "At line 23 BOUNDS\n",
      "At line 24 ENDATA\n",
      "Problem MODEL has 2 rows, 4 columns and 8 elements\n",
      "Coin0008I MODEL read with 0 errors\n",
      "Option for timeMode changed from cpu to elapsed\n",
      "Presolve 2 (0) rows, 4 (0) columns and 8 (0) elements\n",
      "0  Obj -0 Dual inf 270 (4)\n",
      "0  Obj -0 Dual inf 270 (4)\n",
      "1  Obj 106666.67\n",
      "Optimal - objective value 106666.67\n",
      "Optimal objective 106666.6667 - 1 iterations time 0.002\n",
      "Option for printingOptions changed from normal to all\n",
      "Total time (CPU seconds):       0.00   (Wallclock seconds):       0.00\n",
      "\n"
     ]
    },
    {
     "data": {
      "text/plain": [
       "1"
      ]
     },
     "execution_count": 2,
     "metadata": {},
     "output_type": "execute_result"
    }
   ],
   "source": [
    "# Solve the problem\n",
    "main_model.solve()"
   ]
  },
  {
   "cell_type": "markdown",
   "id": "1bc7a7aa",
   "metadata": {},
   "source": [
    "## 1c.) What is the optimal number of each instrument to produce? (1 point)\n",
    "Run the code cell below to find the optimal value for each variable in the model. Fill in the table below.\n",
    "### Solution:\n",
    "\n",
    "| Variable    | Value |\n",
    "| -------- | ------- |\n",
    "| x1 | 0 |\n",
    "| x2 | 0 |\n",
    "| x3 | 0 |\n",
    "| x4 | 1333.3333 |"
   ]
  },
  {
   "cell_type": "code",
   "execution_count": 3,
   "id": "7997d85f",
   "metadata": {},
   "outputs": [
    {
     "name": "stdout",
     "output_type": "stream",
     "text": [
      "x1 0.0\n",
      "x2 0.0\n",
      "x3 0.0\n",
      "x4 1333.3333\n"
     ]
    }
   ],
   "source": [
    "for var in main_model.variables():\n",
    "    print(var.name, var.value())"
   ]
  },
  {
   "cell_type": "markdown",
   "id": "17cfb887",
   "metadata": {},
   "source": [
    "# Problem 2: Sensitivity of Novice Quality Trumpets (5 points)\n",
    "\n",
    "## 2a) (2 points)\n",
    "\n",
    "What would happen if the market price of novice quality trumpets went up? In other words, how much can the market price coefficient in the objective function change without causing the optimal basis to change? This is also called “allowable increase.” You are provided a helper function to find the allowable increase. Try messing with the parameters and looking at the source code in the `helpers.py` file to understand how it works."
   ]
  },
  {
   "cell_type": "markdown",
   "id": "ca1b30dd",
   "metadata": {},
   "source": [
    "### Solution:\n",
    "It's possible to increase the price of novice trumpets ($x_3$) from the current $\\$60.00$ up to $\\$110.00$ without affecting the optimal production plan, producing only professional trumpets ($x_4$). So after that point, the optimal solution moves to producing all novice trumpets. However, as both of them have the same production cost, only differing in the number of skilled labor hours required, the company would be able to produce more novice trumpets compared to professionals, while sustaining the same costs, what would increase profits, if not for the fact that the company has a limited amount of metal available, which would prevent the company from producing more than $1,333.33$ novice or professional trumpets."
   ]
  },
  {
   "cell_type": "code",
   "execution_count": 4,
   "id": "21680bc7",
   "metadata": {},
   "outputs": [
    {
     "name": "stdout",
     "output_type": "stream",
     "text": [
      "Iteration 1: Coefficient of x3: 60, Objective value: 106666.664, Solution: {'x1': 0.0, 'x2': 0.0, 'x3': 0.0, 'x4': 1333.3333}\n",
      "----------------------------------------\n",
      "Iteration 2: Coefficient of x3: 65, Objective value: 106666.664, Solution: {'x1': 0.0, 'x2': 0.0, 'x3': 0.0, 'x4': 1333.3333}\n",
      "----------------------------------------\n",
      "Iteration 3: Coefficient of x3: 70, Objective value: 106666.664, Solution: {'x1': 0.0, 'x2': 0.0, 'x3': 0.0, 'x4': 1333.3333}\n",
      "----------------------------------------\n",
      "Iteration 4: Coefficient of x3: 75, Objective value: 106666.664, Solution: {'x1': 0.0, 'x2': 0.0, 'x3': 0.0, 'x4': 1333.3333}\n",
      "----------------------------------------\n",
      "Iteration 5: Coefficient of x3: 80, Objective value: 106666.664, Solution: {'x1': 0.0, 'x2': 0.0, 'x3': 0.0, 'x4': 1333.3333}\n",
      "----------------------------------------\n",
      "Iteration 6: Coefficient of x3: 85, Objective value: 106666.664, Solution: {'x1': 0.0, 'x2': 0.0, 'x3': 0.0, 'x4': 1333.3333}\n",
      "----------------------------------------\n",
      "Iteration 7: Coefficient of x3: 90, Objective value: 106666.664, Solution: {'x1': 0.0, 'x2': 0.0, 'x3': 0.0, 'x4': 1333.3333}\n",
      "----------------------------------------\n",
      "Iteration 8: Coefficient of x3: 95, Objective value: 106666.664, Solution: {'x1': 0.0, 'x2': 0.0, 'x3': 0.0, 'x4': 1333.3333}\n",
      "----------------------------------------\n",
      "Iteration 9: Coefficient of x3: 100, Objective value: 106666.664, Solution: {'x1': 0.0, 'x2': 0.0, 'x3': 0.0, 'x4': 1333.3333}\n",
      "----------------------------------------\n",
      "Iteration 10: Coefficient of x3: 105, Objective value: 106666.664, Solution: {'x1': 0.0, 'x2': 0.0, 'x3': 0.0, 'x4': 1333.3333}\n",
      "----------------------------------------\n",
      "Iteration 11: Coefficient of x3: 110, Objective value: 106666.664, Solution: {'x1': 0.0, 'x2': 0.0, 'x3': 1333.3333, 'x4': 0.0}\n",
      "----------------------------------------\n",
      "Optimal basis changed at coefficient 110.\n",
      "\n",
      "The allowable increase for x3 is: 50\n"
     ]
    },
    {
     "name": "stderr",
     "output_type": "stream",
     "text": [
      "/Users/enriccogemha/.pyenv/versions/3.9.21/lib/python3.9/site-packages/pulp/pulp.py:1650: UserWarning: Overwriting previously set objective.\n",
      "  warnings.warn(\"Overwriting previously set objective.\")\n"
     ]
    }
   ],
   "source": [
    "from helpers import find_allowable_increase\n",
    "# Run the helper to find the allowable increase for x3\n",
    "allowable_increase = find_allowable_increase(base_model=main_model, var_name=\"x3\", base_coef=60, step=5)\n",
    "\n",
    "print(f\"The allowable increase for x3 is: {allowable_increase}\")"
   ]
  },
  {
   "cell_type": "markdown",
   "id": "04e9faf4",
   "metadata": {},
   "source": [
    "## 2b) (2 points)\n",
    "Would novice trumpets be more profitable than professional trumpets to produce if novice trumpets sold for the same amount as professional quality trumpets?"
   ]
  },
  {
   "cell_type": "markdown",
   "id": "e5f111b0",
   "metadata": {},
   "source": [
    "### Solution:\n",
    "The production costs for both novice and professional trumpets are the same, $\\$30.00$. However, as the novice requires 2 hours of skilled labor and the professional requires 4 hours, the company would be able to produce more novice trumpets than professionals, what would increase the overall profits of the company. However, the current constrain actually lies on the amount of metal, that is limiting the production to $1,333.333$ trumpets. Therefore, it would not make a difference on the company's profits to produce either trumpets."
   ]
  },
  {
   "cell_type": "markdown",
   "id": "f8ec6827",
   "metadata": {},
   "source": [
    "## 2c) (1 point)\n",
    "What would change if the price went down?"
   ]
  },
  {
   "cell_type": "markdown",
   "id": "44757e81",
   "metadata": {},
   "source": [
    "### Solution:\n",
    "If the price of novice trumpets went down from its current $\\$60.00$, the optimal production plan would remain the same. This happens because novice trumpets are not being produced, due to their already low $\\$30.00$ profit margin, and lowering this price would only make them even less profitable. Therefore, the company would continue producing only professional trumpets as this remains the most profitable use of the currently constraining metal resource."
   ]
  },
  {
   "cell_type": "markdown",
   "id": "8eca32b7",
   "metadata": {},
   "source": [
    "# Problem 3: Sensitivity of Novice Quality Trombones (5 points)\n",
    "\n",
    "## 3a) (2 points)\n",
    "\n",
    "What would happen if the market price of novice quality trombones went up? In other words, what is the “allowable increase” in the market price of novice quality trombones?\n"
   ]
  },
  {
   "cell_type": "markdown",
   "id": "e8b6a92f",
   "metadata": {},
   "source": [
    "### Solution:\n",
    "It's possible to increase the price of novice trombones ($x_1$) from the current $\\$70.00$ up to $\\$147.00$ without affecting the optimal production plan, producing only professional trumpets ($x_4$). So after that point, the optimal solution moves to producing all novice trombones. This shows how steep the price increase would need to be for novice trombones to start being produced, reinforcing again that the current strategy of producing only professional trumpets is the most profitable, specially given the metal constraints, in which the trombone requires $40 \\text{ square inches of metal}$, while the trumpet only requires $30$."
   ]
  },
  {
   "cell_type": "code",
   "execution_count": 5,
   "id": "96bdc967",
   "metadata": {},
   "outputs": [
    {
     "name": "stdout",
     "output_type": "stream",
     "text": [
      "Optimal basis changed at coefficient 137.\n",
      "\n",
      "The allowable increase for x1 is: 77\n"
     ]
    }
   ],
   "source": [
    "from helpers import find_allowable_increase\n",
    "\n",
    "# setting verbose to False since we take smaller steps for this variable and don't want to print every iteration\n",
    "allowable_increase = find_allowable_increase(base_model=main_model, var_name=\"x1\", base_coef=60, step=1, max_iter=100, verbose=False)\n",
    "\n",
    "print(f\"The allowable increase for x1 is: {allowable_increase}\")"
   ]
  },
  {
   "cell_type": "markdown",
   "id": "6704a335",
   "metadata": {},
   "source": [
    "## 3b) (3 points)\n",
    "Would they be profitable to produce if they sold for the same amount as professional quality trombones? What would make them profitable to produce (intuitive explanation is expected, not specific numbers)?"
   ]
  },
  {
   "cell_type": "markdown",
   "id": "88a39c0e",
   "metadata": {},
   "source": [
    "### Solution:\n",
    "No, even if novice trombones sold for the same $\\$140.00$ as professional trombones, they still wouldn't be profitable to produce. \n",
    "\n",
    "The current optimal strategy is to produce professional trumpets for $\\$110.00$, because they provide the best use of metal. Check the profit per square inch of metal for each instrument:\n",
    "\n",
    "- Professional trumpets: $\\$80/30$ = $\\$2.67 \\text{ profit per sq inch}$\n",
    "- Novice trombones at $\\$140$: $\\$100/40$ = $\\$2.50 \\text{ profit per sq inch}$\n",
    "\n",
    "Since metal is limiting production, novice trombones would only become profitable by generating more profit per square inch of metal than professional trumpets."
   ]
  },
  {
   "cell_type": "markdown",
   "id": "f37755c5",
   "metadata": {},
   "source": [
    "# Problem 4: Sensitivity of Professional Quality Trumpets (2 points)\n",
    "\n",
    "What would happen to the optimal solution if the price of professional quality trumpets fell to $100? If there is a change, what would the new production plan and optimal profit be?\n",
    "\n",
    "Provide your analysis and corresponding code below."
   ]
  },
  {
   "cell_type": "markdown",
   "id": "b360bf22",
   "metadata": {},
   "source": [
    "### Solution:\n",
    "A price of $\\$100.00$ for professional quality trumpets would cause the optimal production strategy to shift to full professional trombones ($x_2$) manufacturing, with a total of $1,000 \\text{ units}$.\n",
    "\n",
    "The price drop changes the scenario. Now, professional trombones have a $\\$100$ profit per 40 sq inches compared to professional trumpets with a new $\\$70$ profit per 30 sq inches."
   ]
  },
  {
   "cell_type": "code",
   "execution_count": 6,
   "id": "bec5fa2c",
   "metadata": {},
   "outputs": [
    {
     "name": "stdout",
     "output_type": "stream",
     "text": [
      "Sensitivity Analysis for Professional Quality Trumpets (Price = $100):\n",
      "Objective value (Profit): 100000.0\n",
      "x1: 0.0\n",
      "x2: 1000.0\n",
      "x3: 0.0\n",
      "x4: 0.0\n"
     ]
    }
   ],
   "source": [
    "low_trumpet_model = LpProblem(name=\"instrument-production\", sense=LpMaximize)\n",
    "\n",
    "# Define variables\n",
    "x1 = LpVariable(name=\"x1\", lowBound=0)  # Novice Trombone\n",
    "x2 = LpVariable(name=\"x2\", lowBound=0)  # Professional Trombone\n",
    "x3 = LpVariable(name=\"x3\", lowBound=0)  # Novice Trumpet\n",
    "x4 = LpVariable(name=\"x4\", lowBound=0)  # Professional Trumpet\n",
    "\n",
    "# Objective function\n",
    "low_trumpet_model += 30*x1 + 100*x2 + 30*x3 + 70*x4\n",
    "\n",
    "# Constraints\n",
    "low_trumpet_model += 40 * x1 + 40 * x2 + 30 * x3 + 30 * x4 <= 40000, \"Metal Sheet Constraint\"\n",
    "low_trumpet_model += 2 * x1 + 5 * x2 + 2 * x3 + 4 * x4 <= 6000, \"Skilled Labor Constraint\"\n",
    "\n",
    "# Solve the low_trumpet_model\n",
    "low_trumpet_model.solve(PULP_CBC_CMD(msg=0))\n",
    "\n",
    "# Display results\n",
    "print(\"Sensitivity Analysis for Professional Quality Trumpets (Price = $100):\")\n",
    "print(f\"Objective value (Profit): {low_trumpet_model.objective.value()}\")\n",
    "for var in low_trumpet_model.variables():\n",
    "    print(f\"{var.name}: {var.value()}\")"
   ]
  },
  {
   "cell_type": "markdown",
   "metadata": {},
   "source": [
    "# Problem 5: Sensitivity of Metal Resources (8 points)\n",
    "\n",
    "## 5a) (4 points)\n",
    "How do production plans change when metal supplies change? At which point does metal stop being a limiting resource and how do you know?\n",
    "\n",
    "**HINT**: To find out how the production plans change when metal supplies change, you can use a **guess-and-check approach**. \n",
    "\n",
    "1. Start with the current RHS of the \"Metal Sheet Constraint\" (40,000 square inches).\n",
    "2. Gradually increase or decrease the RHS (e.g., by 1,000 or 5,000 units at a time).\n",
    "3. For each adjustment:\n",
    "   - Re-run to solve the problem and record the production plan (values of x_1, x_2, x_3, x_4) and the total profit.\n",
    "   - Compare the new solution to the original solution (at RHS = 40,000).\n",
    "4. Stop increasing when you notice the production plan has stopped changing. The last RHS value before the variable values stop changing is the **RHS Tolerance Upper Bound**.\n",
    "5. Stop decreasing when the model becomes infeasible. The last RHS value before the model becomes infeasible is the **RHS Tolerance Lower Bound**."
   ]
  },
  {
   "cell_type": "markdown",
   "id": "cb50a10c",
   "metadata": {},
   "source": [
    "### Solution:\n",
    "The production plan changes as the metal supply changes, until it reaches a upper bound of 45,000 square inches of metal, when it stops changing based on the metal supply addition. The lower bound is sort of \"non-existent\", as long as the RHS is above 0, as the model becomes infeasible when the metal supply is 0, due to its non-zero initial constraint."
   ]
  },
  {
   "cell_type": "code",
   "execution_count": 7,
   "id": "ebf988d0",
   "metadata": {},
   "outputs": [
    {
     "name": "stdout",
     "output_type": "stream",
     "text": [
      "Initial Solution:\n",
      "Total Profit: $106666.66\n",
      "Production Plan:\n",
      "  x1: 0.0\n",
      "  x2: 0.0\n",
      "  x3: 0.0\n",
      "  x4: 1333.3333\n",
      "\n",
      "Slack Values for Constraints:\n",
      "  metal_usage_constraint: RHS = -40000, slack = -0.0\n",
      "  labor_usage_constraint: RHS = -6000, slack = 666.6666999999998\n",
      "---------------------------------------------\n",
      "After Adjusting Metal Sheet Constraint:\n",
      "Model Solution Status: Optimal\n",
      "Total Profit: $2.67\n",
      "Production Plan:\n",
      "  x1: 0.0\n",
      "  x2: 0.0\n",
      "  x3: 0.0\n",
      "  x4: 0.033333333\n",
      "\n",
      "Slack Values for Constraints:\n",
      "  metal_usage_constraint: RHS = -1, slack = -0.0\n",
      "  labor_usage_constraint: RHS = -6000, slack = 5999.86666667\n"
     ]
    }
   ],
   "source": [
    "rhs_tol_model = copy.deepcopy(main_model)\n",
    "\n",
    "# Print the results\n",
    "print(\"Initial Solution:\")\n",
    "print(f\"Total Profit: ${rhs_tol_model.objective.value():.2f}\")\n",
    "print(\"Production Plan:\")\n",
    "for var in rhs_tol_model.variables():\n",
    "    print(f\"  {var.name}: {var.varValue}\")\n",
    "\n",
    "# Check slack for each constraint\n",
    "print(\"\\nSlack Values for Constraints:\")\n",
    "for name, constraint in rhs_tol_model.constraints.items():\n",
    "    print(f\"  {name}: RHS = {constraint.constant}, slack = {constraint.slack}\")\n",
    "\n",
    "# ---------------------------------------------\n",
    "# Guess-and-Check Setup\n",
    "# ---------------------------------------------\n",
    "# Change the RHS of the \"Metal Sheet Constraint\" below and re-run this block of code.\n",
    "rhs_tol_model.constraints[\"metal_usage_constraint\"].changeRHS(1)\n",
    "\n",
    "print(\"---------------------------------------------\")\n",
    "print(\"After Adjusting Metal Sheet Constraint:\")\n",
    "\n",
    "# Re-solve the problem\n",
    "rhs_tol_model.solve(PULP_CBC_CMD(msg=0))\n",
    "print(f\"Model Solution Status: {LpStatus[rhs_tol_model.status]}\")\n",
    "\n",
    "# Print updated results\n",
    "print(f\"Total Profit: ${rhs_tol_model.objective.value():.2f}\")\n",
    "print(\"Production Plan:\")\n",
    "for var in rhs_tol_model.variables():\n",
    "    print(f\"  {var.name}: {var.varValue}\")\n",
    "\n",
    "# Check slack for each constraint\n",
    "print(\"\\nSlack Values for Constraints:\")\n",
    "for name, constraint in rhs_tol_model.constraints.items():\n",
    "    print(f\"  {name}: RHS = {constraint.constant}, slack = {constraint.slack}\")"
   ]
  },
  {
   "cell_type": "markdown",
   "id": "2f8cd676",
   "metadata": {},
   "source": [
    "## 5b) (4 points)\n",
    "**What is the shadow price of metal?**  \n",
    "1. Explain the concept of a shadow price in the context of the \"Metal Sheet Constraint\" and how it impacts the objective function (profit).  \n",
    "2. Using the shadow price, calculate how much the profit is expected to change if the metal supplies increase by 500 square inches.  \n",
    "3. Solve the problem again with the increased metal supplies and verify the expected profit change and the new production plan.\n",
    "\n",
    "Use the following formula for profit change:  \n",
    "$$ \\Delta profit = \\Delta \\text{metal supplies quantity} \\cdot dual_{metal} $$\n",
    "\n",
    "---\n",
    "\n",
    "### HINT\n",
    "\n",
    "1. **What is the Shadow Price?**  \n",
    "   The shadow price (also called the dual value) of a constraint tells you how much the objective value (profit) will change per unit increase in the RHS of the constraint, as long as the change is within the **RHS tolerance interval**.\n",
    "\n",
    "2. **How to Find the Shadow Price?**  \n",
    "   - Solve the LP model with the original RHS.\n",
    "   - Check the **dual value** (`constraint.pi`) of the \"Metal Sheet Constraint\" in the solver's output. This is the shadow price.\n",
    "\n",
    "3. **Useful Methods**\n",
    "   - Use `shadow_model.constraints[\"Metal_Sheet_Constraint\"].changeRHS(new_rhs)` to update the RHS of the \"Metal Sheet Constraint\""
   ]
  },
  {
   "cell_type": "markdown",
   "id": "149ba3eb",
   "metadata": {},
   "source": [
    "### Solution:\n",
    "The shadow price of metal is $\\$2.67$ per square inch. This represents how much the profit will increase per additional square inch of metal in the `Metal Constraint`. Therefore, if the metal supply increases by 500 square inches, the profit is expected to increase by $\\$1,333.33$, without truncating the shadow price. When rerunning the model with the increased metal supply, the profit is expected to increase to $\\$108,000.00$, while the new production plan will produce $1,350.00$ professional trumpets, not being limited by the metal supply."
   ]
  },
  {
   "cell_type": "code",
   "execution_count": 8,
   "id": "2310a05f",
   "metadata": {},
   "outputs": [
    {
     "name": "stdout",
     "output_type": "stream",
     "text": [
      "Welcome to the CBC MILP Solver \n",
      "Version: 2.10.3 \n",
      "Build Date: Dec 15 2019 \n",
      "\n",
      "command line - /Users/enriccogemha/.pyenv/versions/3.9.21/lib/python3.9/site-packages/pulp/solverdir/cbc/osx/64/cbc /var/folders/3_/5dvts2vs4s1bdt0tz8nb_y900000gn/T/b1c71153cf2e4afcaf77ca857eaae0e9-pulp.mps -max -timeMode elapsed -branch -printingOptions all -solution /var/folders/3_/5dvts2vs4s1bdt0tz8nb_y900000gn/T/b1c71153cf2e4afcaf77ca857eaae0e9-pulp.sol (default strategy 1)\n",
      "At line 2 NAME          MODEL\n",
      "At line 3 ROWS\n",
      "At line 7 COLUMNS\n",
      "At line 20 RHS\n",
      "At line 23 BOUNDS\n",
      "At line 24 ENDATA\n",
      "Problem MODEL has 2 rows, 4 columns and 8 elements\n",
      "Coin0008I MODEL read with 0 errors\n",
      "Option for timeMode changed from cpu to elapsed\n",
      "Presolve 2 (0) rows, 4 (0) columns and 8 (0) elements\n",
      "0  Obj -0 Dual inf 270 (4)\n",
      "0  Obj -0 Dual inf 270 (4)\n",
      "1  Obj 106666.67\n",
      "Optimal - objective value 106666.67\n",
      "Optimal objective 106666.6667 - 1 iterations time 0.002\n",
      "Option for printingOptions changed from normal to all\n",
      "Total time (CPU seconds):       0.00   (Wallclock seconds):       0.00\n",
      "\n",
      "*Results with Shadow Price Analysis*\n",
      "\n",
      "Shadow Price (dual value) of Metal: $2.67\n",
      "Profit Change for 500 metal increase: $1333.33\n",
      "Current Profit: $106666.66\n",
      "New Profit: $108000.00\n",
      "Welcome to the CBC MILP Solver \n",
      "Version: 2.10.3 \n",
      "Build Date: Dec 15 2019 \n",
      "\n",
      "command line - /Users/enriccogemha/.pyenv/versions/3.9.21/lib/python3.9/site-packages/pulp/solverdir/cbc/osx/64/cbc /var/folders/3_/5dvts2vs4s1bdt0tz8nb_y900000gn/T/a6021d2a7b13430c90a05434f3a7167c-pulp.mps -max -timeMode elapsed -branch -printingOptions all -solution /var/folders/3_/5dvts2vs4s1bdt0tz8nb_y900000gn/T/a6021d2a7b13430c90a05434f3a7167c-pulp.sol (default strategy 1)\n",
      "At line 2 NAME          MODEL\n",
      "At line 3 ROWS\n",
      "At line 7 COLUMNS\n",
      "At line 20 RHS\n",
      "At line 23 BOUNDS\n",
      "At line 24 ENDATA\n",
      "Problem MODEL has 2 rows, 4 columns and 8 elements\n",
      "Coin0008I MODEL read with 0 errors\n",
      "Option for timeMode changed from cpu to elapsed\n",
      "Presolve 2 (0) rows, 4 (0) columns and 8 (0) elements\n",
      "0  Obj -0 Dual inf 270 (4)\n",
      "0  Obj -0 Dual inf 270 (4)\n",
      "1  Obj 108000\n",
      "Optimal - objective value 108000\n",
      "Optimal objective 108000 - 1 iterations time 0.002\n",
      "Option for printingOptions changed from normal to all\n",
      "Total time (CPU seconds):       0.00   (Wallclock seconds):       0.00\n",
      "\n",
      "*New Results with Increased Metal Supply*\n",
      "New Profit: 108000.00\n",
      "Production Plan:\n",
      "  x1: 0.0\n",
      "  x2: 0.0\n",
      "  x3: 0.0\n",
      "  x4: 1350.0\n"
     ]
    }
   ],
   "source": [
    "shadow_model = copy.deepcopy(main_model)\n",
    "\n",
    "# TODO: Solve the shadow price problem\n",
    "shadow_model.solve()\n",
    "\n",
    "print(\"*Results with Shadow Price Analysis*\")\n",
    "dual_metal = shadow_model.constraints[\"metal_usage_constraint\"].pi\n",
    "print(f\"\\nShadow Price (dual value) of Metal: ${abs(dual_metal):.2f}\")\n",
    "\n",
    "metal_increase = 500\n",
    "expected_profit_change = metal_increase * abs(dual_metal)\n",
    "print(f\"Profit Change for 500 metal increase: ${expected_profit_change:.2f}\")\n",
    "\n",
    "current_profit = shadow_model.objective.value()\n",
    "print(f\"Current Profit: ${current_profit:.2f}\")\n",
    "print(f\"New Profit: ${current_profit + expected_profit_change:.2f}\")\n",
    "\n",
    "# TODO: Update RHS\n",
    "current_rhs = -shadow_model.constraints[\"metal_usage_constraint\"].constant\n",
    "new_rhs = current_rhs + metal_increase\n",
    "shadow_model.constraints[\"metal_usage_constraint\"].changeRHS(new_rhs)\n",
    "\n",
    "shadow_model.solve()\n",
    "\n",
    "# Display the new results\n",
    "print(\"*New Results with Increased Metal Supply*\")\n",
    "print(f\"New Profit: {shadow_model.objective.value():.2f}\")\n",
    "print(\"Production Plan:\")\n",
    "for var in shadow_model.variables():\n",
    "    print(f\"  {var.name}: {var.value()}\")"
   ]
  },
  {
   "cell_type": "markdown",
   "id": "adee66b0",
   "metadata": {},
   "source": [
    "# Problem 6: Sensitivity of Labor Resources (5 points)\n",
    "\n",
    "## 6a) (1 point)\n",
    "How much labor is unused?\n",
    "\n",
    "HINT: What is the slack?"
   ]
  },
  {
   "cell_type": "markdown",
   "id": "42050bf9",
   "metadata": {},
   "source": [
    "### Solution:\n",
    "$666.67$ hours of labor are unused, in slack. This means $5,333.33$ hours are being utilized in the optimal production plan."
   ]
  },
  {
   "cell_type": "code",
   "execution_count": 9,
   "id": "9d739b21",
   "metadata": {},
   "outputs": [
    {
     "name": "stdout",
     "output_type": "stream",
     "text": [
      "Skilled Labor Constraint Slack: 666.6666999999998\n"
     ]
    }
   ],
   "source": [
    "# TODO: Calculate the slack for the skilled labor constraint\n",
    "skilled_labor_slack = main_model.constraints[\"labor_usage_constraint\"].slack\n",
    "print(f\"Skilled Labor Constraint Slack: {skilled_labor_slack}\")\n"
   ]
  },
  {
   "cell_type": "markdown",
   "id": "b90c54ba",
   "metadata": {},
   "source": [
    "## 6b) (2 points)\n",
    "How much would you be willing to pay an additional laborer?"
   ]
  },
  {
   "cell_type": "markdown",
   "id": "c4bdb9c6",
   "metadata": {},
   "source": [
    "### Solution:\n",
    "Talking purely about the labor cost, the company would not be willing to pay any additional laborer, as the current labor supply is not being fully utilized. Only after increasing the metal supply, and therefore increasing production, then it would be possible to pay for additional labor."
   ]
  },
  {
   "cell_type": "markdown",
   "id": "81eb7c5e",
   "metadata": {},
   "source": [
    "## 6c) (2 points)\n",
    "Suppose that industrial regulation complicate the process so it takes an additional hour of labor to turn a novice quality instrument into a professional quality instrument. How and why does that change affect the optimal production plan and profit?"
   ]
  },
  {
   "cell_type": "markdown",
   "id": "7c448e21",
   "metadata": {},
   "source": [
    "### Solution:\n",
    "Without doing any calculations, it's possible to infer that the constraint would no longer be the metal supply, but the labor supply. It's also possible to infer that the overall profit would decrease, as the company would produce less professional instruments, due to the labor supply being a limiting factor."
   ]
  },
  {
   "cell_type": "markdown",
   "id": "b44af695",
   "metadata": {},
   "source": [
    "# Problem 7: Sensitivity of New Constraint (5 points)\n",
    "\n",
    "## 7a) (4 points)\n",
    "The owner of the company comes up with a design for a beautiful hand-crafted tuba. Each tuba requires 250 hours of labor (6.25 weeks of full time work) and uses 50 square inches of metal. If the\n",
    "company can sell tubas for $200, would it be worthwhile to produce? Use:\n",
    "$$ \\text{(marginal cost of metal)}_{tuba} = \\text{(metal used)}_{tuba} \\cdot dual_{metal} $$\n",
    "\n",
    "Discuss how looking at the shadow prices of metal and labor can help\n",
    "you intuit whether diverting metal resources to tuba production is a good idea. Check your intuition with the solver."
   ]
  },
  {
   "cell_type": "markdown",
   "id": "eb32cc6f",
   "metadata": {},
   "source": [
    "### Solution:\n",
    "After evaluating the modle and the shadow prices of metal and labor, it's possible to intuit that the company should mix the production of professional trumpets with a small amount of tubas ($2.74$ units), making the maximum profit slightly higher than the current optimal profit. This conjunction would help maximize the usage of both constraints, metal and labor."
   ]
  },
  {
   "cell_type": "code",
   "execution_count": 10,
   "id": "88769b7e",
   "metadata": {},
   "outputs": [
    {
     "name": "stdout",
     "output_type": "stream",
     "text": [
      "Welcome to the CBC MILP Solver \n",
      "Version: 2.10.3 \n",
      "Build Date: Dec 15 2019 \n",
      "\n",
      "command line - /Users/enriccogemha/.pyenv/versions/3.9.21/lib/python3.9/site-packages/pulp/solverdir/cbc/osx/64/cbc /var/folders/3_/5dvts2vs4s1bdt0tz8nb_y900000gn/T/517c3f8b09a54467a229b07b179ff657-pulp.mps -max -timeMode elapsed -branch -printingOptions all -solution /var/folders/3_/5dvts2vs4s1bdt0tz8nb_y900000gn/T/517c3f8b09a54467a229b07b179ff657-pulp.sol (default strategy 1)\n",
      "At line 2 NAME          MODEL\n",
      "At line 3 ROWS\n",
      "At line 7 COLUMNS\n",
      "At line 23 RHS\n",
      "At line 26 BOUNDS\n",
      "At line 27 ENDATA\n",
      "Problem MODEL has 2 rows, 5 columns and 10 elements\n",
      "Coin0008I MODEL read with 0 errors\n",
      "Option for timeMode changed from cpu to elapsed\n",
      "Presolve 2 (0) rows, 5 (0) columns and 10 (0) elements\n",
      "0  Obj -0 Dual inf 949.76675 (5)\n",
      "0  Obj -0 Dual inf 949.76675 (5)\n",
      "2  Obj 106712.33\n",
      "Optimal - objective value 106712.33\n",
      "Optimal objective 106712.3288 - 2 iterations time 0.002\n",
      "Option for printingOptions changed from normal to all\n",
      "Total time (CPU seconds):       0.00   (Wallclock seconds):       0.00\n",
      "\n",
      "Objective: 106712.3269\n",
      "x1: 0.0\n",
      "x2: 0.0\n",
      "x3: 0.0\n",
      "x4: 1328.7671\n",
      "x5: 2.739726\n",
      "Shadow Price for Metal: $2.66\n",
      "Shadow Price for Labor: $0.07\n"
     ]
    }
   ],
   "source": [
    "from pulp import LpMaximize, LpProblem, LpVariable, value\n",
    "\n",
    "# Define the problem\n",
    "tuba_model = LpProblem(name=\"instrument-production\", sense=LpMaximize)\n",
    "\n",
    "# Define variables\n",
    "x1 = LpVariable(name=\"x1\", lowBound=0)  # Novice Trombone\n",
    "x2 = LpVariable(name=\"x2\", lowBound=0)  # Professional Trombone\n",
    "x3 = LpVariable(name=\"x3\", lowBound=0)  # Novice Trumpet\n",
    "x4 = LpVariable(name=\"x4\", lowBound=0)  # Professional Trumpet\n",
    "x5 = LpVariable(name=\"x5\", lowBound=0)  # Tubas\n",
    "\n",
    "# Define the problem and analyze the shadow prices\n",
    "tuba_model += 30*x1 + 100*x2 + 30*x3 + 80*x4 + 150*x5\n",
    "\n",
    "# Constraints\n",
    "tuba_model += (40*x1 + 40*x2 + 30*x3 + 30*x4 + 50*x5 <= 40000, \"metal_constraint\")\n",
    "tuba_model += (2*x1 + 5*x2 + 2*x3 + 4*x4 + 250*x5 <= 6000, \"labor_constraint\")\n",
    "\n",
    "# Solve the problem\n",
    "status = tuba_model.solve()\n",
    "\n",
    "# Display the results\n",
    "print(f\"Objective: {value(tuba_model.objective)}\")\n",
    "for var in tuba_model.variables():\n",
    "    print(f\"{var.name}: {var.value()}\")\n",
    "\n",
    "# Analyze the shadow prices\n",
    "dual_metal = tuba_model.constraints[\"metal_constraint\"].pi\n",
    "dual_labor = tuba_model.constraints[\"labor_constraint\"].pi\n",
    "\n",
    "print(f\"Shadow Price for Metal: ${dual_metal:.2f}\")\n",
    "print(f\"Shadow Price for Labor: ${dual_labor:.2f}\")"
   ]
  },
  {
   "cell_type": "markdown",
   "id": "d6cda587",
   "metadata": {},
   "source": [
    "## 7b) (1 point)\n",
    "Is it profitable if tubas sell for $150? Why?"
   ]
  },
  {
   "cell_type": "markdown",
   "id": "4aea90da",
   "metadata": {},
   "source": [
    "### Solution:\n",
    "No, it wouldn't be profitable to sell tubas for $\\$150.00$, since each tuba has a marginal cost, for metal alone, of:\n",
    "$$ 50 \\text{ sq inches} \\cdot \\$2.66 = \\$133.00 $$\n",
    "Based on the shadow cost of labor, the marginal cost for labor would be:\n",
    "$$ 250 \\text{ hours} \\cdot \\$0.07 = \\$17.50 $$\n",
    "Therefore, the total marginal cost for each tuba would be:\n",
    "$$ \\$133.00 + \\$17.50 = \\$150.50 $$\n",
    "This means that the company would lose $\\$0.50$ for each tuba produced and sold, if the selling price was $\\$150.00$, making it unprofitable."
   ]
  },
  {
   "cell_type": "markdown",
   "id": "da67b98b",
   "metadata": {},
   "source": [
    "# Problem 8: Making Sense of the Dual Problem (5 points)\n",
    "\n",
    "## 8a) (3 points)\n",
    "Set up the original problem’s corresponding dual LP. Write an objective function that maximizes profits (market price - production costs) and all dual constraints."
   ]
  },
  {
   "cell_type": "code",
   "execution_count": 11,
   "id": "bacea266",
   "metadata": {},
   "outputs": [],
   "source": [
    "from pulp import LpMinimize, LpProblem, LpVariable\n",
    "\n",
    "# Define the dual problem\n",
    "dual_model = LpProblem(name=\"dual-instrument-production\", sense=LpMinimize)\n",
    "\n",
    "# Define the dual problem\n",
    "y1 = LpVariable(name=\"y1\", lowBound=0) # Metal Constraint\n",
    "y2 = LpVariable(name=\"y2\", lowBound=0) # Labor Constraint\n",
    "\n",
    "# Objective function\n",
    "dual_model += 40000*y1 + 6000*y2, \"dual_objective\"\n",
    "\n",
    "# Constraints\n",
    "dual_model += 40*y1 + 2*y2 >= 30, \"novice_trombone\"\n",
    "dual_model += 40*y1 + 5*y2 >= 100, \"professional_trombone\"\n",
    "dual_model += 30*y1 + 2*y2 >= 30, \"novice_trumpet\"\n",
    "dual_model += 30*y1 + 4*y2 >= 80, \"professional_trumpet\""
   ]
  },
  {
   "cell_type": "markdown",
   "id": "746316b3",
   "metadata": {},
   "source": [
    "## 8b) (1 point)\n",
    "Run the code block below to solve the problem. What is the optimal profit? Give a plot of the constraints (you can use this [example](https://github.com/hakeemrehman/Python-PuLP-/blob/master/LP%20Using%20PuLP%20and%20Graphical%20Sol..ipynb) for guidance)."
   ]
  },
  {
   "cell_type": "code",
   "execution_count": 12,
   "id": "8fc9d1fd",
   "metadata": {},
   "outputs": [
    {
     "name": "stdout",
     "output_type": "stream",
     "text": [
      "Dual Problem Results:\n",
      "Optimal Value (Total Resource Value): 106666.66799999999\n"
     ]
    }
   ],
   "source": [
    "# Solve the dual problem\n",
    "dual_model.solve(PULP_CBC_CMD(msg=0))\n",
    "\n",
    "# Display the results\n",
    "print(\"Dual Problem Results:\")\n",
    "print(f\"Optimal Value (Total Resource Value): {dual_model.objective.value()}\")"
   ]
  },
  {
   "cell_type": "markdown",
   "id": "c28f7627",
   "metadata": {},
   "source": [
    "The constrains for the dual problem are:\n",
    "\n",
    "$$ 40y_1 + 2y_2 \\geq 30 \\longrightarrow y_2 \\geq 15 - 20y_1 \\longrightarrow \\text{Novice Trombone} $$\n",
    "$$ 40y_1 + 5y_2 \\geq 100 \\longrightarrow y_2 \\geq 20 - 8y_1 \\longrightarrow \\text{Professional Trombone} $$\n",
    "$$ 30y_1 + 2y_2 \\geq 30 \\longrightarrow y_2 \\geq 15 - 15y_1 \\longrightarrow \\text{Novice Trumpet} $$\n",
    "$$ 30y_1 + 4y_2 \\geq 80 \\longrightarrow y_2 \\geq 20 - 7.5y_1 \\longrightarrow \\text{Professional Trumpet} $$"
   ]
  },
  {
   "cell_type": "code",
   "execution_count": 13,
   "id": "af743664",
   "metadata": {},
   "outputs": [
    {
     "data": {
      "image/png": "[encoded data removed]",
      "text/plain": [
       "<Figure size 640x480 with 1 Axes>"
      ]
     },
     "metadata": {},
     "output_type": "display_data"
    }
   ],
   "source": [
    "import numpy as np\n",
    "import matplotlib.pyplot as plt\n",
    "\n",
    "# Plot constraints\n",
    "y1 = np.linspace(0, 5, 100)\n",
    "plt.plot(y1, 15 - 20*y1, label='40y1 + 2y2 ≥ 30')\n",
    "plt.plot(y1, 20 - 8*y1, label='40y1 + 5y2 ≥ 100')\n",
    "plt.plot(y1, 15 - 15*y1, label='30y1 + 2y2 ≥ 30')\n",
    "plt.plot(y1, 20 - 7.5*y1, label='30y1 + 4y2 ≥ 80')\n",
    "\n",
    "# Plot optimal point\n",
    "plt.plot(2.67, 0.07, 'ro', markersize=8, label='Optimal')\n",
    "\n",
    "# Configure plot\n",
    "plt.grid(True)\n",
    "plt.xlabel('y1 (Metal Shadow Price)')\n",
    "plt.ylabel('y2 (Labor Shadow Price)')\n",
    "plt.title('Dual Problem Constraints')\n",
    "plt.legend()\n",
    "plt.axis([0, 5, 0, 5])\n",
    "plt.show()"
   ]
  },
  {
   "cell_type": "markdown",
   "id": "0043540e",
   "metadata": {},
   "source": [
    "## 8c) (1 point)\n",
    "Say something about the relationship between dual variables and slackness in the primal and dual problem."
   ]
  },
  {
   "cell_type": "markdown",
   "id": "d92f9648",
   "metadata": {},
   "source": [
    "### Solution:\n",
    "When a constraint in the primal problem has slack, its dual variable must be zero. More specifically, the metal constraint is fully used and has a positive shadow price of $2.67, while labor has a lot of slack and a low shadow price of $0.07.\n",
    "The same happens in the dual problem, where only the Professional Trompet is being produced and has a positive shadow price, while the other constraints have slack and a zero shadow price. This shows how the relationship between dual variables, or shadow prices, and slackness in both problems is directly related."
   ]
  }
 ],
 "metadata": {
  "kernelspec": {
   "display_name": "3.9.21",
   "language": "python",
   "name": "python3"
  },
  "language_info": {
   "codemirror_mode": {
    "name": "ipython",
    "version": 3
   },
   "file_extension": ".py",
   "mimetype": "text/x-python",
   "name": "python",
   "nbconvert_exporter": "python",
   "pygments_lexer": "ipython3",
   "version": "3.9.21"
  }
 },
 "nbformat": 4,
 "nbformat_minor": 5
}
